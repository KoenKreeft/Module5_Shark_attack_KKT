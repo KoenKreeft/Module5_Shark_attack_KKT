{
  "nbformat": 4,
  "nbformat_minor": 0,
  "metadata": {
    "colab": {
      "provenance": []
    },
    "kernelspec": {
      "name": "python3",
      "display_name": "Python 3"
    },
    "language_info": {
      "name": "python"
    }
  },
  "cells": [
    {
      "cell_type": "code",
      "execution_count": 31,
      "metadata": {
        "id": "h3961anWB2IY"
      },
      "outputs": [],
      "source": [
        "import pandas as pd\n",
        "import numpy as np\n",
        "from matplotlib import pyplot as plt\n",
        "import matplotlib.font_manager\n",
        "import seaborn as sns\n",
        "%matplotlib inline\n",
        "from matplotlib.pyplot import figure\n",
        "import plotly.express as px\n",
        "from scipy import stats\n",
        "import plotly.graph_objects as go"
      ]
    },
    {
      "cell_type": "code",
      "source": [
        "from google.colab import drive\n",
        "drive.mount ('/content/drive')"
      ],
      "metadata": {
        "id": "WgLgFWz5DEW7"
      },
      "execution_count": null,
      "outputs": []
    },
    {
      "cell_type": "code",
      "source": [
        "%load_ext google.colab.data_table"
      ],
      "metadata": {
        "id": "4XQa5U5KNXlk"
      },
      "execution_count": null,
      "outputs": []
    },
    {
      "cell_type": "code",
      "source": [
        "shark_attack = pd.read_csv(\"/content/drive/MyDrive/RawData/attacks.csv\", encoding='latin-1')\n",
        "shark_attack.loc[0:,'Date':'Species ']"
      ],
      "metadata": {
        "id": "wqEY6R51PBdu"
      },
      "execution_count": null,
      "outputs": []
    },
    {
      "cell_type": "code",
      "source": [
        "# Welke kolommen heeft mijn dataset?\n",
        "shark_attack.columns"
      ],
      "metadata": {
        "id": "sUi07OcIFdlx"
      },
      "execution_count": null,
      "outputs": []
    },
    {
      "cell_type": "code",
      "source": [
        "# Question 1: What are the most dangerous types of sharks to humans?\n",
        "# Assuming the sharks with most attacks are the ones who are most dangerous to people.\n",
        "# The result also shows figures that do not directly indicate the type of shark, but the table does show which species has launched the most number of attacks.\n",
        "\n",
        "#Rename column name\n",
        "shark_attack = shark_attack.rename(columns={'Species ':'Species'})\n",
        "# species that attack most\n",
        "species_attack = shark_attack.groupby('Species')['Species'].count().sort_values(ascending=False)[1:25]\n",
        "\n",
        "# Create a bar chart\n",
        "data = go.Bar(x = species_attack.index,y=species_attack.values,text=species_attack.values, marker_color='pink')\n",
        "\n",
        "layout = go.Layout(title = 'Shark Attack by Species',\n",
        "                   xaxis=dict(title='Species'),\n",
        "                   yaxis=dict(title='Attack Count',visible=False),\n",
        "                  )\n",
        "fig = go.Figure(\n",
        "    data=data,\n",
        "    layout=layout\n",
        ")\n",
        "fig.show()"
      ],
      "metadata": {
        "id": "Cdmg-Awg7m35"
      },
      "execution_count": null,
      "outputs": []
    },
    {
      "cell_type": "code",
      "source": [
        "# Question 2: Are children more likely to be attacked by sharks?\n",
        "# To answer this question, a column has been added to distinguish between shark attacks on children (in this case under 18 years old) and adults (18 years and older).\n",
        "# Ultimately, the graph shows that the number of attacks on children is much lower than the number of attacks on people aged 18 and over.\n",
        "\n",
        "# Adding column Child\n",
        "shark_attack['Child'] = shark_attack['Age'] < '18'\n",
        "\n",
        "# For visualization purposes, adjust the position of the column 'Child'\n",
        "shark_attack.insert(11, 'Child', shark_attack.pop('Child'))\n",
        "shark_attack.loc[0:100,'Date':'Child']\n",
        "\n",
        "# Create a bar chart of the 'Child' column\n",
        "attack_on_children = shark_attack['Child'].value_counts()\n",
        "attack_on_children.plot(kind='bar')\n",
        "\n",
        "# Labels graph\n",
        "plt.xlabel('Number of attacks on Child')\n",
        "plt.ylabel('Aantal')\n",
        "plt.xticks([0, 1], ['False', 'True'])\n",
        "\n",
        "plt.show()"
      ],
      "metadata": {
        "id": "tjespkQq7sYE"
      },
      "execution_count": null,
      "outputs": []
    },
    {
      "cell_type": "code",
      "source": [
        "# Question 3: Are shark attacks where sharks were provoked more or less dangerous?\n",
        "# I want to see a total number of attacks in my line graph and add the numbers of provoked attacks and unprovoked attacks to see a clear difference.\n",
        "# In the graph you can see a big difference between unprovoced attacks and provoced attacks.\n",
        "# Given the large difference between provoked and unprovoked attacks, I would assume that even if you don't provoke an attack, you still have a high chance of being attacked by a shark.\n",
        "# Not to mention the fact that I wouldn't provoke a shark to attack anyway.\n",
        "\n",
        "# To make the graph easier to read, only data from 1800 onwards is shown. Few attacks took place before this.\n",
        "shark_attack = shark_attack[shark_attack['Year'] >= 1800]\n",
        "\n",
        "# Calculate the number of attacks per year\n",
        "year = shark_attack['Year'].value_counts().sort_index()\n",
        "\n",
        "# Calculate the number of 'Provoked' attacks per year\n",
        "provoked_attacks = shark_attack[shark_attack['Type'] == 'Provoked']['Year'].value_counts().sort_index()\n",
        "\n",
        "# Calculate the number of 'Unprovoked' attacks per year\n",
        "unprovoked_attacks = shark_attack[shark_attack['Type'] == 'Unprovoked']['Year'].value_counts().sort_index()\n",
        "\n",
        "# Make a line graph\n",
        "plt.figure(figsize=(20, 6))\n",
        "\n",
        "plt.plot(year.index, year.values, 'r-', label='Total Attacks')\n",
        "plt.plot(provoked_attacks.index, provoked_attacks.values, 'y-', label='Provoked attacks')\n",
        "plt.plot(unprovoked_attacks.index, unprovoked_attacks.values, 'g-', label='Unprovoked attacks')\n",
        "\n",
        "plt.xlabel('Year')\n",
        "plt.ylabel('Total Attacks')\n",
        "plt.title('Attacks since 1800')\n",
        "\n",
        "plt.legend()\n",
        "\n",
        "plt.show()"
      ],
      "metadata": {
        "id": "TGT42YE17wnb"
      },
      "execution_count": null,
      "outputs": []
    },
    {
      "cell_type": "code",
      "source": [
        "# Question 4: Are certain activities more likely to result in a shark attack?\n",
        "# To gain a clear insight, the various activities from the data are compared with each other to come to an answer\n",
        "# Given the outcome, I wouldn't go fishing\n",
        "\n",
        "attack_activity = shark_attack[shark_attack.Type == 'Provoked'].groupby('Activity')['Activity'].count().sort_values(ascending=False)[:10]\n",
        "\n",
        "fig = px.bar(attack_activity, x=attack_activity.values, y=attack_activity.index, orientation='h', labels={'index':'','x':'Attack Count'},\n",
        "            title = 'Which activity creates the greatest risk of shark attack')\n",
        "fig.update_layout(height=500, width=800)\n",
        "fig.show()"
      ],
      "metadata": {
        "id": "YyBLi1hr75C7"
      },
      "execution_count": null,
      "outputs": []
    }
  ]
}
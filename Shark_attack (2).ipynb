{
  "nbformat": 4,
  "nbformat_minor": 0,
  "metadata": {
    "colab": {
      "provenance": []
    },
    "kernelspec": {
      "name": "python3",
      "display_name": "Python 3"
    },
    "language_info": {
      "name": "python"
    }
  },
  "cells": [
    {
      "cell_type": "code",
      "execution_count": 122,
      "metadata": {
        "id": "h3961anWB2IY"
      },
      "outputs": [],
      "source": [
        "import pandas as pd\n",
        "import numpy as np\n",
        "from matplotlib import pyplot as plt\n",
        "import matplotlib.font_manager\n",
        "import seaborn as sns\n",
        "%matplotlib inline\n",
        "from matplotlib.pyplot import figure\n",
        "import plotly.express as px\n",
        "from scipy import stats\n",
        "import plotly.graph_objects as go"
      ]
    },
    {
      "cell_type": "code",
      "source": [
        "from google.colab import drive\n",
        "drive.mount ('/content/drive')"
      ],
      "metadata": {
        "id": "WgLgFWz5DEW7"
      },
      "execution_count": null,
      "outputs": []
    },
    {
      "cell_type": "code",
      "source": [
        "%load_ext google.colab.data_table"
      ],
      "metadata": {
        "id": "4XQa5U5KNXlk"
      },
      "execution_count": null,
      "outputs": []
    },
    {
      "cell_type": "code",
      "source": [
        "shark_attack = pd.read_csv(\"/content/drive/MyDrive/RawData/attacks.csv\", encoding='latin-1')\n",
        "shark_attack.loc[0:,'Date':'Species ']"
      ],
      "metadata": {
        "id": "wqEY6R51PBdu"
      },
      "execution_count": null,
      "outputs": []
    },
    {
      "cell_type": "code",
      "source": [
        "# columns of my dataset\n",
        "shark_attack.columns"
      ],
      "metadata": {
        "id": "sUi07OcIFdlx"
      },
      "execution_count": null,
      "outputs": []
    },
    {
      "cell_type": "code",
      "source": [
        "shark_attack.rename(columns={'Species ': 'Species'}, inplace=True)"
      ],
      "metadata": {
        "id": "irBNnVq-K33P"
      },
      "execution_count": 127,
      "outputs": []
    },
    {
      "cell_type": "code",
      "source": [
        "species = shark_attack ['Species'].unique()\n",
        "for s in species:\n",
        "    print(s)"
      ],
      "metadata": {
        "id": "RiCvOxAi_lXd"
      },
      "execution_count": null,
      "outputs": []
    },
    {
      "cell_type": "code",
      "source": [
        "# Create a List of known shark species\n",
        "list_of_species = [\"White shark\", \"Tiger shark\", \"Lemon shark\", \"Bull shark\", \"Grey reef shark\", \"Tawny nurse shark\", \"Wobbegong shark\", \"Blacktip shark\", \"Galapagos shark\", \"Oceanic whitetip shark\", \"Cookiecutter shark\", \"Spinner shark\", \"Angel shark\", \"Dogfish shark\", \"Bronze whaler shark\", \"Reef shark\", \"Hammerhead shark\", \"Thresher shark\", \"Spurdog\", \"Lesser spotted dogfish\", \"Longfin mako shark\", \"Shortfin mako shark\", \"Goblin shark\", \"Soupfin shark\", \"Leopard shark\", \"Porbeagle\", \"Seven-gill shark\", \"Raggedtooth shark\", \"Sandtiger shark\", \"Cow shark\", \"Whitetip reef shark\", \"Salmon shark\"]"
      ],
      "metadata": {
        "id": "gwa38J3gJeig"
      },
      "execution_count": 129,
      "outputs": []
    },
    {
      "cell_type": "code",
      "source": [
        "# Remove rows whose \"Species\" is not in the list of shark species\n",
        "shark_attack_species = shark_attack[shark_attack[\"Species\"].isin(list_of_species)]"
      ],
      "metadata": {
        "id": "xt_aqx9UJjTk"
      },
      "execution_count": 130,
      "outputs": []
    },
    {
      "cell_type": "code",
      "source": [
        "# Question 1: What are the most dangerous types of sharks to humans?\n",
        "# Assuming the sharks with most attacks are the ones who are most dangerous to people.\n",
        "\n",
        "# species that attack most\n",
        "species_attack = shark_attack_species.groupby('Species')['Species'].count().sort_values(ascending=False)[1:10]\n",
        "\n",
        "# Create a bar chart\n",
        "data = go.Bar(x = species_attack.index,y=species_attack.values,text=species_attack.values, marker_color='pink')\n",
        "\n",
        "layout = go.Layout(title = 'Shark attack by species',\n",
        "                   xaxis=dict(title='Species'),\n",
        "                   yaxis=dict(title='Number of attacks'),\n",
        "                  )\n",
        "fig = go.Figure(\n",
        "    data=data,\n",
        "    layout=layout\n",
        ")\n",
        "fig.show()"
      ],
      "metadata": {
        "id": "Cdmg-Awg7m35"
      },
      "execution_count": null,
      "outputs": []
    },
    {
      "cell_type": "code",
      "source": [
        "# Question 2: Are children more likely to be attacked by sharks?\n",
        "\n",
        "# Unique values Age column\n",
        "shark_attack['Age'].unique()"
      ],
      "metadata": {
        "id": "tjespkQq7sYE"
      },
      "execution_count": null,
      "outputs": []
    },
    {
      "cell_type": "code",
      "source": [
        "# Create a function to extract numeric values from a string\n",
        "def extract_numeric_age(age_str):\n",
        "    try:\n",
        "        # Try to extract a numeric value from the string\n",
        "        age = float(age_str)\n",
        "        return age\n",
        "    except ValueError:\n",
        "        # If it fails, return NaN\n",
        "        return np.nan"
      ],
      "metadata": {
        "id": "kKyBViZWXzr9"
      },
      "execution_count": 133,
      "outputs": []
    },
    {
      "cell_type": "code",
      "source": [
        "# Apply the function to the \"Age\" column and create \"NumericAge\"\n",
        "shark_attack['NumericAge'] = shark_attack['Age'].apply(extract_numeric_age)\n",
        "# Filter the rows in which numerical ages are present\n",
        "shark_attack = shark_attack.dropna(subset=['NumericAge'])"
      ],
      "metadata": {
        "id": "NiiahJRLZ_iD"
      },
      "execution_count": 134,
      "outputs": []
    },
    {
      "cell_type": "code",
      "source": [
        "# Unique values Age column\n",
        "shark_attack['Age'].unique()"
      ],
      "metadata": {
        "id": "Ygy3Ph0VYOEa"
      },
      "execution_count": null,
      "outputs": []
    },
    {
      "cell_type": "code",
      "source": [
        "# To answer the question, a column has been added to distinguish between shark attacks on children (in this case under 18 years old) and adults (18 years and older).\n",
        "# Adding column Child\n",
        "\n",
        "shark_attack['Child'] = shark_attack['Age'] < '18'\n",
        "\n",
        "# For visualization purposes, adjust the position of the column 'Child'\n",
        "shark_attack.insert(11, 'Child', shark_attack.pop('Child'))\n",
        "shark_attack.loc[0:,'Date':'Child']"
      ],
      "metadata": {
        "id": "pzfMjGseYht2"
      },
      "execution_count": null,
      "outputs": []
    },
    {
      "cell_type": "code",
      "source": [
        "# Ultimately, the graph shows that the number of attacks on children is much lower than the number of attacks on people aged 18 and over.\n",
        "\n",
        "# Create a bar chart of the 'Child' column\n",
        "attack_on_children = shark_attack['Child'].value_counts()\n",
        "attack_on_children.plot(kind='bar')\n",
        "\n",
        "# Labels graph\n",
        "plt.xlabel('Attacks on Child')\n",
        "plt.ylabel('Number')\n",
        "plt.xticks([0, 1], ['False', 'True'])\n",
        "\n",
        "plt.show()"
      ],
      "metadata": {
        "id": "_CoZo3hiSLW1"
      },
      "execution_count": null,
      "outputs": []
    },
    {
      "cell_type": "code",
      "source": [
        "# Question 3: Are shark attacks where sharks were provoked more or less dangerous?\n",
        "# I want to see a total number of attacks in my line graph and add the numbers of provoked attacks and unprovoked attacks to see a clear difference.\n",
        "# In the graph you can see a big difference between unprovoced attacks and provoced attacks.\n",
        "# Given the large difference between provoked and unprovoked attacks, I would assume that even if you don't provoke an attack, you still have a high chance of being attacked by a shark.\n",
        "# Not to mention the fact that I wouldn't provoke a shark to attack anyway.\n",
        "\n",
        "# To make the graph easier to read, only data from 1800 onwards is shown. Few attacks took place before this.\n",
        "shark_attack = shark_attack[shark_attack['Year'] >= 1800]\n",
        "\n",
        "# Calculate the number of attacks per year\n",
        "year = shark_attack['Year'].value_counts().sort_index()\n",
        "\n",
        "# Calculate the number of 'Provoked' attacks per year\n",
        "provoked_attacks = shark_attack[shark_attack['Type'] == 'Provoked']['Year'].value_counts().sort_index()\n",
        "\n",
        "# Calculate the number of 'Unprovoked' attacks per year\n",
        "unprovoked_attacks = shark_attack[shark_attack['Type'] == 'Unprovoked']['Year'].value_counts().sort_index()\n",
        "\n",
        "# Make a line graph\n",
        "plt.figure(figsize=(20, 6))\n",
        "\n",
        "plt.plot(year.index, year.values, 'r-', label='Total Attacks')\n",
        "plt.plot(provoked_attacks.index, provoked_attacks.values, 'y-', label='Provoked attacks')\n",
        "plt.plot(unprovoked_attacks.index, unprovoked_attacks.values, 'g-', label='Unprovoked attacks')\n",
        "\n",
        "plt.xlabel('Year')\n",
        "plt.ylabel('Total Attacks')\n",
        "plt.title('Attacks since 1800')\n",
        "\n",
        "plt.legend()\n",
        "\n",
        "plt.show()"
      ],
      "metadata": {
        "id": "TGT42YE17wnb"
      },
      "execution_count": null,
      "outputs": []
    },
    {
      "cell_type": "code",
      "source": [
        "# Unique values Activity column\n",
        "shark_attack['Activity'].unique()"
      ],
      "metadata": {
        "id": "zyuChRQo5OD4"
      },
      "execution_count": null,
      "outputs": []
    },
    {
      "cell_type": "code",
      "source": [
        "# Question 4: Are certain activities more likely to result in a shark attack?\n",
        "\n",
        "# To gain a clear insight, i've made a top 10 of all the provoced attacks with the associated activity\n",
        "attack_activity = shark_attack[shark_attack.Type == 'Provoked'].groupby('Activity')['Activity'].count().sort_values(ascending=False)[:10]\n",
        "attack_activity"
      ],
      "metadata": {
        "id": "YyBLi1hr75C7"
      },
      "execution_count": null,
      "outputs": []
    },
    {
      "cell_type": "code",
      "source": [
        "# From the top 10 the activities that are essentially the same can be grouped\n",
        "shark_attack['Activity'] = shark_attack['Activity'].str.replace('.*Fishing.*', 'Fishing', case=False, regex=True)\n",
        "shark_attack['Activity'] = shark_attack['Activity'].str.replace('.*Diving.*', 'Diving', case=False, regex=True)\n",
        "shark_attack['Activity'].unique()"
      ],
      "metadata": {
        "id": "dXq64rUiCRgm"
      },
      "execution_count": null,
      "outputs": []
    },
    {
      "cell_type": "code",
      "source": [
        "# Again a top 10 of all the provoced attacks with the associated activity\n",
        "attack_activity = shark_attack[shark_attack.Type == 'Provoked'].groupby('Activity')['Activity'].count().sort_values(ascending=False)[:10]\n",
        "attack_activity"
      ],
      "metadata": {
        "id": "9pnhttkWDrS8"
      },
      "execution_count": null,
      "outputs": []
    },
    {
      "cell_type": "code",
      "source": [
        "#  I want to refrase the output for the last 2 in my top 10\n",
        "shark_attack['Activity'] = shark_attack['Activity'].replace({\"Moving shark from tuna vessel when boat rolled, placing both man & shark in chest-deep water\": \"Moving a shark\",\n",
        "                                         \"On expedition filming a feature movie & standing on tripod\": \"Filming a shark\"})"
      ],
      "metadata": {
        "id": "ryNEV9bfXUp4"
      },
      "execution_count": 143,
      "outputs": []
    },
    {
      "cell_type": "code",
      "source": [
        "# Again a top 10 of all the provoced attacks with the associated activity\n",
        "attack_activity = shark_attack[shark_attack.Type == 'Provoked'].groupby('Activity')['Activity'].count().sort_values(ascending=False)[:10]\n",
        "attack_activity"
      ],
      "metadata": {
        "id": "ijnD3LH6Xta-"
      },
      "execution_count": null,
      "outputs": []
    },
    {
      "cell_type": "code",
      "source": [
        "# Create a bar chart to show activities that may pose the greatest risk of being attacked by a shark\n",
        "fig = px.bar(attack_activity, x=attack_activity.values, y=attack_activity.index, orientation='h', labels={'index':'','x':'Attack Count'},\n",
        "            title = 'Which activity creates the greatest risk of shark attack')\n",
        "fig.update_layout(height=500, width=1000)\n",
        "fig.show()"
      ],
      "metadata": {
        "id": "iS7EicDUB5yY"
      },
      "execution_count": null,
      "outputs": []
    }
  ]
}
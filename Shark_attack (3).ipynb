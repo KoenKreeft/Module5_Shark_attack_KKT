{
  "nbformat": 4,
  "nbformat_minor": 0,
  "metadata": {
    "colab": {
      "provenance": []
    },
    "kernelspec": {
      "name": "python3",
      "display_name": "Python 3"
    },
    "language_info": {
      "name": "python"
    }
  },
  "cells": [
    {
      "cell_type": "code",
      "execution_count": 143,
      "metadata": {
        "id": "h3961anWB2IY"
      },
      "outputs": [],
      "source": [
        "import pandas as pd\n",
        "import numpy as np\n",
        "from matplotlib import pyplot as plt\n",
        "import matplotlib.font_manager\n",
        "import seaborn as sns\n",
        "%matplotlib inline\n",
        "from matplotlib.pyplot import figure\n",
        "import plotly.express as px\n",
        "from scipy import stats\n",
        "import plotly.graph_objects as go"
      ]
    },
    {
      "cell_type": "code",
      "source": [
        "from google.colab import drive\n",
        "drive.mount ('/content/drive')"
      ],
      "metadata": {
        "id": "WgLgFWz5DEW7"
      },
      "execution_count": null,
      "outputs": []
    },
    {
      "cell_type": "code",
      "source": [
        "%load_ext google.colab.data_table"
      ],
      "metadata": {
        "id": "4XQa5U5KNXlk"
      },
      "execution_count": null,
      "outputs": []
    },
    {
      "cell_type": "code",
      "source": [
        "shark_attack = pd.read_csv(\"/content/drive/MyDrive/RawData/attacks.csv\", encoding='latin-1')\n",
        "shark_attack.loc[0:,'Date':'Species ']"
      ],
      "metadata": {
        "id": "wqEY6R51PBdu"
      },
      "execution_count": null,
      "outputs": []
    },
    {
      "cell_type": "code",
      "source": [
        "# columns of my dataset\n",
        "shark_attack.columns"
      ],
      "metadata": {
        "id": "sUi07OcIFdlx"
      },
      "execution_count": null,
      "outputs": []
    },
    {
      "cell_type": "code",
      "source": [
        "shark_attack.rename(columns={'Species ': 'Species'}, inplace=True)"
      ],
      "metadata": {
        "id": "irBNnVq-K33P"
      },
      "execution_count": 148,
      "outputs": []
    },
    {
      "cell_type": "code",
      "source": [
        "species = shark_attack ['Species'].unique()\n",
        "for s in species:\n",
        "    print(s)"
      ],
      "metadata": {
        "id": "RiCvOxAi_lXd"
      },
      "execution_count": null,
      "outputs": []
    },
    {
      "cell_type": "code",
      "source": [
        "# Create a List of known shark species\n",
        "list_of_species = [\"White shark\", \"Tiger shark\", \"Lemon shark\", \"Bull shark\", \"Grey reef shark\", \"Tawny nurse shark\", \"Wobbegong shark\", \"Blacktip shark\", \"Galapagos shark\", \"Oceanic whitetip shark\", \"Cookiecutter shark\", \"Spinner shark\", \"Angel shark\", \"Dogfish shark\", \"Bronze whaler shark\", \"Reef shark\", \"Hammerhead shark\", \"Thresher shark\", \"Spurdog\", \"Lesser spotted dogfish\", \"Longfin mako shark\", \"Shortfin mako shark\", \"Goblin shark\", \"Soupfin shark\", \"Leopard shark\", \"Porbeagle\", \"Seven-gill shark\", \"Raggedtooth shark\", \"Sandtiger shark\", \"Cow shark\", \"Whitetip reef shark\", \"Salmon shark\"]"
      ],
      "metadata": {
        "id": "gwa38J3gJeig"
      },
      "execution_count": 150,
      "outputs": []
    },
    {
      "cell_type": "code",
      "source": [
        "# Remove rows whose \"Species\" is not in the list of shark species\n",
        "shark_attack_species = shark_attack[shark_attack[\"Species\"].isin(list_of_species)]"
      ],
      "metadata": {
        "id": "xt_aqx9UJjTk"
      },
      "execution_count": 151,
      "outputs": []
    },
    {
      "cell_type": "code",
      "source": [
        "# Question 1: What are the most dangerous types of sharks to humans?\n",
        "# Assuming the sharks with most attacks (and the distinction between fatal and not-fatal) are the ones who are most dangerous to people.\n",
        "\n",
        "# species that attack most\n",
        "species_attack = shark_attack_species.groupby('Species')['Species'].count().sort_values(ascending=False)[0:20]\n",
        "\n",
        "# using column 'Fatal'\n",
        "fatal_counts = shark_attack_species.groupby('Species')['Fatal (Y/N)'].value_counts().unstack(fill_value=0)\n",
        "\n",
        "# Sort by total number of attacks in descending order\n",
        "fatal_counts = fatal_counts.loc[species_attack.index]\n",
        "\n",
        "# Replace 'Y' and 'N' labels to 'Fatal' and 'Not Fatal'\n",
        "fatal_counts.rename(columns={'Y': 'Fatal', 'N': 'Not Fatal'}, inplace=True)\n",
        "\n",
        "fig = px.bar(fatal_counts, x=fatal_counts.index, y=['Not Fatal', 'Fatal'], title='Shark Attacks by Species and Fatality',\n",
        "             labels={'index': 'Species', 'value': 'Number of Attacks'}, height=400)\n",
        "\n",
        "fig.show()"
      ],
      "metadata": {
        "id": "Cdmg-Awg7m35"
      },
      "execution_count": null,
      "outputs": []
    },
    {
      "cell_type": "code",
      "source": [
        "# Question 2: Are children more likely to be attacked by sharks?\n",
        "\n",
        "# Unique values Age column\n",
        "shark_attack['Age'].unique()"
      ],
      "metadata": {
        "id": "tjespkQq7sYE"
      },
      "execution_count": null,
      "outputs": []
    },
    {
      "cell_type": "code",
      "source": [
        "# Create a function to extract numeric values from a string\n",
        "def extract_numeric_age(age_str):\n",
        "    try:\n",
        "        # Try to extract a numeric value from the string\n",
        "        age = float(age_str)\n",
        "        return age\n",
        "    except ValueError:\n",
        "        # If it fails, return NaN\n",
        "        return np.nan"
      ],
      "metadata": {
        "id": "kKyBViZWXzr9"
      },
      "execution_count": 154,
      "outputs": []
    },
    {
      "cell_type": "code",
      "source": [
        "# Apply the function to the \"Age\" column and create \"NumericAge\"\n",
        "shark_attack['NumericAge'] = shark_attack['Age'].apply(extract_numeric_age)\n",
        "# Filter the rows in which numerical ages are present\n",
        "shark_attack = shark_attack.dropna(subset=['NumericAge'])"
      ],
      "metadata": {
        "id": "NiiahJRLZ_iD"
      },
      "execution_count": 155,
      "outputs": []
    },
    {
      "cell_type": "code",
      "source": [
        "# Unique values Age column\n",
        "shark_attack['Age'].unique()"
      ],
      "metadata": {
        "id": "Ygy3Ph0VYOEa"
      },
      "execution_count": null,
      "outputs": []
    },
    {
      "cell_type": "code",
      "source": [
        "# To answer the question, a column has been added to distinguish between shark attacks on children (in this case under 18 years old) and adults (18 years and older).\n",
        "# Adding column Child\n",
        "\n",
        "shark_attack['Child'] = shark_attack['Age'] < '18'\n",
        "\n",
        "# For visualization purposes, adjust the position of the column 'Child'\n",
        "shark_attack.insert(11, 'Child', shark_attack.pop('Child'))\n",
        "shark_attack.loc[0:,'Date':'Child']"
      ],
      "metadata": {
        "id": "pzfMjGseYht2"
      },
      "execution_count": null,
      "outputs": []
    },
    {
      "cell_type": "code",
      "source": [
        "# Ultimately, the graph shows that the number of attacks on children is much lower than the number of attacks on people aged 18 and over.\n",
        "\n",
        "# Create a bar chart of the 'Child' column\n",
        "attack_on_children = shark_attack['Child'].value_counts()\n",
        "attack_on_children.plot(kind='bar')\n",
        "\n",
        "# Labels graph\n",
        "plt.title('Number of attacks on children')\n",
        "plt.xlabel('Attacks on Child')\n",
        "plt.ylabel('Number of attacks')\n",
        "plt.xticks([0, 1], ['False', 'True'])\n",
        "\n",
        "plt.show()"
      ],
      "metadata": {
        "id": "_CoZo3hiSLW1"
      },
      "execution_count": null,
      "outputs": []
    },
    {
      "cell_type": "code",
      "source": [
        "# Question 3: Are shark attacks where sharks were provoked more or less dangerous?\n",
        "# I want to see a total number of attacks in my line graph and add the numbers of provoked attacks and unprovoked attacks to see a clear difference.\n",
        "# In the graph you can see a big difference between unprovoced attacks and provoced attacks.\n",
        "# Given the large difference between provoked and unprovoked attacks, I would assume that even if you don't provoke an attack, you still have a high chance of being attacked by a shark.\n",
        "# Not to mention the fact that I wouldn't provoke a shark to attack anyway.\n",
        "\n",
        "# To make the graph easier to read, only data from 1800 onwards is shown. Few attacks took place before this.\n",
        "shark_attack = shark_attack[shark_attack['Year'] >= 1800]\n",
        "\n",
        "# Calculate the number of 'Provoked' attacks per year\n",
        "provoked_attacks = shark_attack[shark_attack['Type'] == 'Provoked']['Year'].value_counts().sort_index()\n",
        "\n",
        "# Calculate the number of 'Unprovoked' attacks per year\n",
        "unprovoked_attacks = shark_attack[shark_attack['Type'] == 'Unprovoked']['Year'].value_counts().sort_index()\n",
        "\n",
        "# Calculate the total number of attacks (Provoked + Unprovoked) per year\n",
        "total_attacks = provoked_attacks + unprovoked_attacks\n",
        "\n",
        "# Make a line graph\n",
        "plt.figure(figsize=(20, 6))\n",
        "\n",
        "plt.plot(total_attacks.index, total_attacks.values, 'r-', label='Total Attacks')\n",
        "plt.plot(provoked_attacks.index, provoked_attacks.values, 'y-', label='Provoked attacks')\n",
        "plt.plot(unprovoked_attacks.index, unprovoked_attacks.values, 'g-', label='Unprovoked attacks')\n",
        "\n",
        "plt.xlabel('Year')\n",
        "plt.ylabel('Total Attacks')\n",
        "plt.title('Attacks since 1800')\n",
        "\n",
        "plt.legend()\n",
        "\n",
        "plt.show()"
      ],
      "metadata": {
        "id": "TGT42YE17wnb"
      },
      "execution_count": null,
      "outputs": []
    },
    {
      "cell_type": "code",
      "source": [
        "# Unique values Activity column\n",
        "shark_attack['Activity'].unique()"
      ],
      "metadata": {
        "id": "zyuChRQo5OD4"
      },
      "execution_count": null,
      "outputs": []
    },
    {
      "cell_type": "code",
      "source": [
        "# Question 4: Are certain activities more likely to result in a shark attack?\n",
        "# I want to create a list of common activities that I can extract from the large activity dataset\n",
        "# Once I have done this I want to sort the activity with the most attacks from high to low and show this in the graph\n",
        "\n",
        "# Make a list of activities that are common in the list\n",
        "activities = ['Swimming', 'Surfing', 'Fishing', 'Diving', 'Wading', 'Snorkeling', 'Body boarding', 'Boogie boarding', 'Paddle-boarding', 'Kayaking', 'Paddle-skiing', 'Kite surfing', 'Paddle boarding', 'Lobstering', 'Kiteboarding', 'Spearfishing', 'Rowing']\n",
        "\n",
        "# Create an empty dictionary to store the counts\n",
        "activity_counts = {}\n",
        "\n",
        "# Go through the list of activities and count how many times each activity occurs\n",
        "for activity in activities:\n",
        "    # Use str.contains to find the matches and count them\n",
        "    count = shark_attack['Activity'].str.contains(activity, case=False, na=False).sum()\n",
        "    # Save the number in the dictionary\n",
        "    activity_counts[activity] = count\n",
        "\n",
        "# Convert the dictionary to a pandas Series for easy viewing\n",
        "activity_counts_series = pd.Series(activity_counts)\n",
        "\n",
        "plt.figure(figsize=(12, 6))\n",
        "activity_counts_series.sort_values(ascending=False).plot(kind='bar', color='lightblue')\n",
        "plt.title('Number of shark attacks per activity')\n",
        "plt.xlabel('Activity')\n",
        "plt.ylabel('Number of attacks')\n",
        "plt.xticks(rotation=45)\n",
        "plt.show()\n"
      ],
      "metadata": {
        "id": "ZeKMxhIF9Fas"
      },
      "execution_count": null,
      "outputs": []
    }
  ]
}